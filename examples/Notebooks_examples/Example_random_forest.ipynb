{
 "cells": [
  {
   "cell_type": "markdown",
   "metadata": {},
   "source": [
    "# Example using random forest\n",
    "\n",
    "In this example we use a pool of classifiers generated using the Random Forest method rather than Bagging. We also\n",
    "show how to change the size of the region of competence, used to estimate the local competence of the base classifiers.\n",
    "\n",
    "This demonstrates that the library accepts any kind of base classifiers as long as they implement the predict and\n",
    "predict proba functions. Moreover, any ensemble generation method such as Boosting or Rotation Trees can be used\n",
    "to generate a pool containing diverse base classifiers. We also included the performance of the RandomForest classifier\n",
    "as a baseline comparison.\n"
   ]
  },
  {
   "cell_type": "code",
   "execution_count": 1,
   "metadata": {},
   "outputs": [],
   "source": [
    "from sklearn.datasets import load_breast_cancer\n",
    "from sklearn.ensemble import RandomForestClassifier\n",
    "from sklearn.model_selection import train_test_split\n",
    "\n",
    "# Example of a dcs techniques\n",
    "from deslib.dcs.ola import OLA\n",
    "from deslib.dcs.mcb import MCB\n",
    "# Example of a des techniques\n",
    "from deslib.des.knora_e import KNORAE\n",
    "from deslib.des.des_p import DESP\n",
    "from deslib.des.knora_u import KNORAU\n",
    "from deslib.des.meta_des import METADES"
   ]
  },
  {
   "cell_type": "markdown",
   "metadata": {},
   "source": [
    "## Loading a classification dataset and preparing the data"
   ]
  },
  {
   "cell_type": "code",
   "execution_count": 2,
   "metadata": {},
   "outputs": [],
   "source": [
    "# Generate a classification dataset\n",
    "data = load_breast_cancer()\n",
    "X = data.data\n",
    "y = data.target\n",
    "# split the data into training and test data\n",
    "X_train, X_test, y_train, y_test = train_test_split(X, y, test_size=0.25)\n",
    "\n",
    "#Training a random forest classifier using the whole training data\n",
    "RF = RandomForestClassifier()\n",
    "RF.fit(X_train, y_train)\n",
    "\n",
    "X_train, X_dsel, y_train, y_dsel = train_test_split(X, y, test_size=0.50)"
   ]
  },
  {
   "cell_type": "markdown",
   "metadata": {},
   "source": [
    "## Training a random forest to be used as the pool of classifiers\n",
    "\n",
    "We set the maximum depth of each decision tree to 5 so that it can estimate posterior probabilities.  Otherwise, sklearn generates decision tree in which each leaf contains only samples from a single class, attributing always probability 1 to the predicted class and 0 to all others. Some DS techinques such as the META-DES, requires good probabilities estimates to achieve a better performance. "
   ]
  },
  {
   "cell_type": "code",
   "execution_count": 3,
   "metadata": {},
   "outputs": [
    {
     "data": {
      "text/plain": [
       "RandomForestClassifier(bootstrap=True, class_weight=None, criterion='gini',\n",
       "            max_depth=5, max_features='auto', max_leaf_nodes=None,\n",
       "            min_impurity_decrease=0.0, min_impurity_split=None,\n",
       "            min_samples_leaf=1, min_samples_split=2,\n",
       "            min_weight_fraction_leaf=0.0, n_estimators=10, n_jobs=1,\n",
       "            oob_score=False, random_state=None, verbose=0,\n",
       "            warm_start=False)"
      ]
     },
     "execution_count": 3,
     "metadata": {},
     "output_type": "execute_result"
    }
   ],
   "source": [
    "pool_classifiers = RandomForestClassifier(max_depth=5)\n",
    "pool_classifiers.fit(X_train, y_train)"
   ]
  },
  {
   "cell_type": "markdown",
   "metadata": {},
   "source": [
    "## Initializing DS techniques\n"
   ]
  },
  {
   "cell_type": "code",
   "execution_count": 4,
   "metadata": {},
   "outputs": [],
   "source": [
    "# Initialize a DS technique. Here we specify the size of the region of competence (5 neighbors)\n",
    "knorau = KNORAU(pool_classifiers)\n",
    "kne = KNORAE(pool_classifiers, k=5)\n",
    "desp = DESP(pool_classifiers, k=5)\n",
    "ola = OLA(pool_classifiers, k=5)\n",
    "mcb = MCB(pool_classifiers, k=5)\n",
    "meta = METADES(pool_classifiers, k=5)\n",
    "# Fit the DS techniques\n",
    "knorau.fit(X_dsel, y_dsel)\n",
    "kne.fit(X_dsel, y_dsel)\n",
    "desp.fit(X_dsel, y_dsel)\n",
    "meta.fit(X_dsel, y_dsel)\n",
    "ola.fit(X_dsel, y_dsel)\n",
    "mcb.fit(X_dsel, y_dsel)"
   ]
  },
  {
   "cell_type": "markdown",
   "metadata": {},
   "source": [
    "## Calculate classification accuracy of each technique"
   ]
  },
  {
   "cell_type": "code",
   "execution_count": 5,
   "metadata": {},
   "outputs": [
    {
     "name": "stdout",
     "output_type": "stream",
     "text": [
      "Classification accuracy RF:  0.9090909090909091\n",
      "Evaluating DS techniques:\n",
      "Classification accuracy KNORAU:  0.9790209790209791\n",
      "Classification accuracy KNORA-Eliminate:  0.986013986013986\n",
      "Classification accuracy DESP:  0.9790209790209791\n",
      "Classification accuracy OLA:  0.972027972027972\n",
      "Classification accuracy MCB:  0.9790209790209791\n",
      "Classification accuracy META-DES:  0.9790209790209791\n"
     ]
    }
   ],
   "source": [
    "# Calculate classification accuracy of each technique\n",
    "print('Classification accuracy RF: ', RF.score(X_test, y_test))\n",
    "print('Evaluating DS techniques:')\n",
    "print('Classification accuracy KNORAU: ', knorau.score(X_test, y_test))\n",
    "print('Classification accuracy KNORA-Eliminate: ', kne.score(X_test, y_test))\n",
    "print('Classification accuracy DESP: ', desp.score(X_test, y_test))\n",
    "print('Classification accuracy OLA: ', ola.score(X_test, y_test))\n",
    "print('Classification accuracy MCB: ', mcb.score(X_test, y_test))\n",
    "print('Classification accuracy META-DES: ', meta.score(X_test, y_test))"
   ]
  }
 ],
 "metadata": {
  "kernelspec": {
   "display_name": "Python 3",
   "language": "python",
   "name": "python3"
  },
  "language_info": {
   "codemirror_mode": {
    "name": "ipython",
    "version": 3
   },
   "file_extension": ".py",
   "mimetype": "text/x-python",
   "name": "python",
   "nbconvert_exporter": "python",
   "pygments_lexer": "ipython3",
   "version": "3.6.5"
  },
  "varInspector": {
   "cols": {
    "lenName": 16,
    "lenType": 16,
    "lenVar": 40
   },
   "kernels_config": {
    "python": {
     "delete_cmd_postfix": "",
     "delete_cmd_prefix": "del ",
     "library": "var_list.py",
     "varRefreshCmd": "print(var_dic_list())"
    },
    "r": {
     "delete_cmd_postfix": ") ",
     "delete_cmd_prefix": "rm(",
     "library": "var_list.r",
     "varRefreshCmd": "cat(var_dic_list()) "
    }
   },
   "types_to_exclude": [
    "module",
    "function",
    "builtin_function_or_method",
    "instance",
    "_Feature"
   ],
   "window_display": false
  }
 },
 "nbformat": 4,
 "nbformat_minor": 2
}
