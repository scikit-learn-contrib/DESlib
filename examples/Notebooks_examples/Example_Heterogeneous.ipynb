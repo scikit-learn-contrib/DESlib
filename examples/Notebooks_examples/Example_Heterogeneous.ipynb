{
 "cells": [
  {
   "cell_type": "markdown",
   "metadata": {},
   "source": [
    "# Example using an heterogeneous pool\n",
    "\n",
    "The library also support a heterogenous pool of classifiers. A pool is called heterogeneous when different classifier models are used to generate a diverse pool of classifiers (e.g., svm, decision tree, naive bayes...)"
   ]
  },
  {
   "cell_type": "code",
   "execution_count": 1,
   "metadata": {},
   "outputs": [],
   "source": [
    "from sklearn.datasets import load_breast_cancer\n",
    "from sklearn.ensemble import RandomForestClassifier\n",
    "from sklearn.model_selection import train_test_split\n",
    "\n",
    "# Example of DCS techniques\n",
    "from deslib.dcs import OLA\n",
    "from deslib.dcs import APriori\n",
    "from deslib.dcs import MCB\n",
    "# Example of DES techniques\n",
    "from deslib.des import KNORAE\n",
    "from deslib.des import DESP\n",
    "from deslib.des import KNORAU"
   ]
  },
  {
   "cell_type": "markdown",
   "metadata": {},
   "source": [
    "## Loading a classification dataset and preparing the data"
   ]
  },
  {
   "cell_type": "code",
   "execution_count": 2,
   "metadata": {},
   "outputs": [],
   "source": [
    "data = load_breast_cancer()\n",
    "X = data.data\n",
    "y = data.target\n",
    "\n",
    "# split the data into training and test data\n",
    "X_train, X_test, y_train, y_test = train_test_split(X, y, test_size=0.33)\n",
    "\n",
    "# Split the data into training and DSEL for DS techniques\n",
    "X_train, X_dsel, y_train, y_dsel = train_test_split(X_train, y_train, test_size=0.5)"
   ]
  },
  {
   "cell_type": "markdown",
   "metadata": {},
   "source": [
    "## Training an heterogeneous pool of classifiers\n",
    "\n",
    "In this example we train a pool composed of:\n",
    "1. Perceptron classifier\n",
    "2. Linear SVM\n",
    "3. Gaussian SVM\n",
    "4. Naive Bayes\n",
    "5. Decision tree\n",
    "6. KNN for k=1"
   ]
  },
  {
   "cell_type": "code",
   "execution_count": 3,
   "metadata": {},
   "outputs": [],
   "source": [
    "from sklearn.linear_model import Perceptron\n",
    "from sklearn.svm import LinearSVC\n",
    "from sklearn.svm import SVC\n",
    "from sklearn.naive_bayes import MultinomialNB, GaussianNB\n",
    "from sklearn.tree import DecisionTreeClassifier\n",
    "from sklearn.neighbors import KNeighborsClassifier\n",
    "from sklearn.calibration import CalibratedClassifierCV\n",
    "from sklearn.ensemble import VotingClassifier\n",
    "\n",
    "model_perceptron = CalibratedClassifierCV(Perceptron(max_iter=100)).fit(X_train, y_train)\n",
    "model_linear_svm = CalibratedClassifierCV(LinearSVC()).fit(X_train, y_train)\n",
    "model_svc = SVC(probability=True).fit(X_train, y_train)\n",
    "model_bayes = GaussianNB().fit(X_train, y_train)\n",
    "model_tree = DecisionTreeClassifier().fit(X_train, y_train)\n",
    "model_knn = KNeighborsClassifier(n_neighbors=1).fit(X_train, y_train)\n",
    "pool_classifiers = [model_perceptron, model_linear_svm,\n",
    "                    model_svc, model_bayes,  model_tree, model_knn]\n",
    "voting_classifiers = [(\"perceptron\", model_perceptron), (\"linear_svm\", model_linear_svm),\n",
    "                      (\"svc\", model_svc), (\"bayes\", model_bayes),  (\"tree\", model_tree), (\"knn\", model_knn)]\n",
    "model_voting = VotingClassifier(estimators=voting_classifiers).fit(X_train, y_train)"
   ]
  },
  {
   "cell_type": "markdown",
   "metadata": {},
   "source": [
    "## Initializing DS techniques\n",
    "\n",
    "Here we initialize the DS techniques. Three DCS and three DES techniques are considered in this example. In this example, we specify the size of the region of competence (k = 5)"
   ]
  },
  {
   "cell_type": "code",
   "execution_count": 4,
   "metadata": {},
   "outputs": [],
   "source": [
    "# DES techniques\n",
    "knorau = KNORAU(pool_classifiers, k=5)\n",
    "kne = KNORAE(pool_classifiers, k=5)\n",
    "desp = DESP(pool_classifiers, k=5)\n",
    "# DCS techniques\n",
    "ola = OLA(pool_classifiers, k=5)\n",
    "mcb = MCB(pool_classifiers, k=5)\n",
    "apriori = APriori(pool_classifiers, k=5)"
   ]
  },
  {
   "cell_type": "markdown",
   "metadata": {},
   "source": [
    "## Fitting DS techniques\n",
    "\n",
    "The function fit(data, target) is used to fit each dynamic selection method. The fit function prepares the algorithm that estimates the region of competence (e.g., K-NN algorithm) and pre-process information required to apply the DS techniques."
   ]
  },
  {
   "cell_type": "code",
   "execution_count": 5,
   "metadata": {},
   "outputs": [],
   "source": [
    "knorau.fit(X_dsel, y_dsel)\n",
    "kne.fit(X_dsel, y_dsel)\n",
    "desp.fit(X_dsel, y_dsel)\n",
    "ola.fit(X_dsel, y_dsel)\n",
    "mcb.fit(X_dsel, y_dsel)\n",
    "apriori.fit(X_dsel, y_dsel)"
   ]
  },
  {
   "cell_type": "markdown",
   "metadata": {},
   "source": [
    "## Calculate classification accuracy of each technique\n",
    "\n",
    "In this case, the first result is the classification accuracy of the random forest classifier, which combines the outputs of each base decision tree using the majority voting scheme. \n",
    "\n",
    "Using DS techniques, instead of combining all decision trees, only the ones that are more competent locally are used for classification. In the case of DCS techniques, the decision tree that is most competent locally is used for prediction. In the case of DES techniques, an ensemble containing the most competent decision trees are selected to predict the label of a given query sample."
   ]
  },
  {
   "cell_type": "code",
   "execution_count": 6,
   "metadata": {},
   "outputs": [
    {
     "name": "stdout",
     "output_type": "stream",
     "text": [
      "Classification accuracy of Majority voting the pool:  0.925531914893617\n",
      "Classification accuracy of KNORA-Union:  0.9468085106382979\n",
      "Classification accuracy of KNORA-Eliminate:  0.9574468085106383\n",
      "Classification accuracy of DESP:  0.9468085106382979\n",
      "Classification accuracy of OLA:  0.9521276595744681\n",
      "Classification accuracy of A priori:  0.9574468085106383\n"
     ]
    }
   ],
   "source": [
    "print('Classification accuracy of Majority voting the pool: ', model_voting.score(X_test, y_test))\n",
    "print('Classification accuracy of KNORA-Union: ', knorau.score(X_test, y_test))\n",
    "print('Classification accuracy of KNORA-Eliminate: ', kne.score(X_test, y_test))\n",
    "print('Classification accuracy of DESP: ', desp.score(X_test, y_test))\n",
    "print('Classification accuracy of OLA: ', ola.score(X_test, y_test))\n",
    "print('Classification accuracy of A priori: ', apriori.score(X_test, y_test))"
   ]
  }
 ],
 "metadata": {
  "kernelspec": {
   "display_name": "Python 3",
   "language": "python",
   "name": "python3"
  },
  "language_info": {
   "codemirror_mode": {
    "name": "ipython",
    "version": 3
   },
   "file_extension": ".py",
   "mimetype": "text/x-python",
   "name": "python",
   "nbconvert_exporter": "python",
   "pygments_lexer": "ipython3",
   "version": "3.6.5"
  },
  "varInspector": {
   "cols": {
    "lenName": 16,
    "lenType": 16,
    "lenVar": 40
   },
   "kernels_config": {
    "python": {
     "delete_cmd_postfix": "",
     "delete_cmd_prefix": "del ",
     "library": "var_list.py",
     "varRefreshCmd": "print(var_dic_list())"
    },
    "r": {
     "delete_cmd_postfix": ") ",
     "delete_cmd_prefix": "rm(",
     "library": "var_list.r",
     "varRefreshCmd": "cat(var_dic_list()) "
    }
   },
   "types_to_exclude": [
    "module",
    "function",
    "builtin_function_or_method",
    "instance",
    "_Feature"
   ],
   "window_display": false
  }
 },
 "nbformat": 4,
 "nbformat_minor": 1
}
