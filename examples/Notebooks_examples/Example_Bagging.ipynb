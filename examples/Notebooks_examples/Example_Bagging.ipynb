{
 "cells": [
  {
   "cell_type": "markdown",
   "metadata": {},
   "source": [
    "# Example using Bagging:\n",
    "\n",
    "In this example we show how to apply different DCS and DES techniques for a classification dataset.\n",
    "\n",
    "A very important aspect in dynamic selection is the generation of a pool of classifiers. A common practice in the dynamic selection literature is to generate a pool of classifiers using the Bagging (Bootstrap Aggregating) method.\n",
    "\n",
    "In this example we generate a pool of classifiers using the Bagging technique implemented on the Scikit-learn library. Then, we compare the results obtained by combining this pool of classifiers using the standard Bagging combination approach versus the application of dynamic selection technique to select the set of most competent classifiers"
   ]
  },
  {
   "cell_type": "code",
   "execution_count": 1,
   "metadata": {},
   "outputs": [],
   "source": [
    "from sklearn.datasets import load_breast_cancer\n",
    "from sklearn.model_selection import train_test_split\n",
    "from sklearn.preprocessing import StandardScaler\n",
    "from sklearn.linear_model import Perceptron\n",
    "from sklearn.calibration import CalibratedClassifierCV\n",
    "from sklearn.ensemble import BaggingClassifier\n",
    "\n",
    "# Example of DCS techniques\n",
    "from deslib.dcs.ola import OLA\n",
    "from deslib.dcs.a_priori import APriori\n",
    "from deslib.dcs.mcb import MCB\n",
    "# Example of DES techniques\n",
    "from deslib.des.des_p import DESP\n",
    "from deslib.des.knora_u import KNORAU\n",
    "from deslib.des.knora_e import KNORAE\n",
    "from deslib.des.meta_des import METADES"
   ]
  },
  {
   "cell_type": "markdown",
   "metadata": {
    "collapsed": true
   },
   "source": [
    "## Loading a classification dataset and preparing the data"
   ]
  },
  {
   "cell_type": "code",
   "execution_count": 2,
   "metadata": {
    "scrolled": true
   },
   "outputs": [],
   "source": [
    "data = load_breast_cancer()\n",
    "X = data.data\n",
    "y = data.target\n",
    "# split the data into training and test data\n",
    "X_train, X_test, y_train, y_test = train_test_split(X, y, test_size=0.33)\n",
    "\n",
    "# Scale the variables to have 0 mean and unit variance\n",
    "scalar = StandardScaler()\n",
    "X_train = scalar.fit_transform(X_train)\n",
    "X_test = scalar.transform(X_test)\n",
    "\n",
    "# Split the data into training and DSEL for DS techniques\n",
    "X_train, X_dsel, y_train, y_dsel = train_test_split(X_train, y_train, test_size=0.5)"
   ]
  },
  {
   "cell_type": "markdown",
   "metadata": {},
   "source": [
    "## Training a pool of classifiers\n",
    "\n",
    "Here we generate a pool of classifiers using the Bagging technique. The Perceptron classifier is used as the base classifier model in this example. It is important to mention that some DS techniques requires that the base classifiers are capable of estimating probabilities. For the Perceptron model, this can be achieved by calibrating the outputs of the base classifiers using the CalibratedClassifierCV class from scikit-learn."
   ]
  },
  {
   "cell_type": "code",
   "execution_count": 3,
   "metadata": {},
   "outputs": [
    {
     "data": {
      "text/plain": [
       "BaggingClassifier(base_estimator=CalibratedClassifierCV(base_estimator=Perceptron(alpha=0.0001, class_weight=None, eta0=1.0, fit_intercept=True,\n",
       "      max_iter=10, n_iter=None, n_jobs=1, penalty=None, random_state=0,\n",
       "      shuffle=True, tol=None, verbose=0, warm_start=False),\n",
       "            cv=3, method='sigmoid'),\n",
       "         bootstrap=True, bootstrap_features=False, max_features=1.0,\n",
       "         max_samples=1.0, n_estimators=10, n_jobs=1, oob_score=False,\n",
       "         random_state=None, verbose=0, warm_start=False)"
      ]
     },
     "execution_count": 3,
     "metadata": {},
     "output_type": "execute_result"
    }
   ],
   "source": [
    "# Calibrating Perceptrons to estimate probabilities\n",
    "model = CalibratedClassifierCV(Perceptron(max_iter=10))\n",
    "\n",
    "# Train a pool of 10 classifiers\n",
    "pool_classifiers = BaggingClassifier(model, n_estimators=10)\n",
    "pool_classifiers.fit(X_train, y_train)"
   ]
  },
  {
   "cell_type": "markdown",
   "metadata": {},
   "source": [
    "## Initializing DS techniques\n",
    "\n",
    "Here we initialize the DS techniques. Three DCS and three DES techniques are considered in this example. The only parameter that is required by the techniques is the pool of classifiers. All others are optional parameters which can be specified."
   ]
  },
  {
   "cell_type": "code",
   "execution_count": 4,
   "metadata": {},
   "outputs": [],
   "source": [
    "# DES techniques\n",
    "knorau = KNORAU(pool_classifiers)\n",
    "kne = KNORAE(pool_classifiers)\n",
    "desp = DESP(pool_classifiers)\n",
    "# DCS techniques\n",
    "ola = OLA(pool_classifiers)\n",
    "mcb = MCB(pool_classifiers)\n",
    "apriori = APriori(pool_classifiers)\n",
    "meta = METADES(pool_classifiers)"
   ]
  },
  {
   "cell_type": "markdown",
   "metadata": {},
   "source": [
    "Each DS technique implements the basic routines from the scikit-learning (fit, predict, predict_proba and score). Here, we call the function fit to prepare the DS techniques for the classification of new data. In this case, the function fit pre-process the information required to apply the DS techniques such as the method that is used to estimate the region of competence."
   ]
  },
  {
   "cell_type": "code",
   "execution_count": 5,
   "metadata": {},
   "outputs": [],
   "source": [
    "knorau.fit(X_dsel, y_dsel)\n",
    "kne.fit(X_dsel, y_dsel)\n",
    "desp.fit(X_dsel, y_dsel)\n",
    "ola.fit(X_dsel, y_dsel)\n",
    "mcb.fit(X_dsel, y_dsel)\n",
    "apriori.fit(X_dsel, y_dsel)\n",
    "meta.fit(X_dsel, y_dsel)"
   ]
  },
  {
   "cell_type": "markdown",
   "metadata": {},
   "source": [
    "## Calculate classification accuracy of each technique\n",
    "\n",
    "Each DS technique implements the function score from scikit-learn in order to estimate the classification accura"
   ]
  },
  {
   "cell_type": "code",
   "execution_count": 6,
   "metadata": {},
   "outputs": [
    {
     "name": "stdout",
     "output_type": "stream",
     "text": [
      "Classification accuracy OLA:  0.9680851063829787\n",
      "Classification accuracy A priori:  0.9840425531914894\n",
      "Classification accuracy KNORA-Union:  0.9787234042553191\n",
      "Classification accuracy KNORA-Eliminate:  0.9787234042553191\n",
      "Classification accuracy DESP:  0.973404255319149\n",
      "Classification accuracy META-DES:  0.9787234042553191\n"
     ]
    }
   ],
   "source": [
    "print('Classification accuracy OLA: ', ola.score(X_test, y_test))\n",
    "print('Classification accuracy A priori: ', apriori.score(X_test, y_test))\n",
    "print('Classification accuracy KNORA-Union: ', knorau.score(X_test, y_test))\n",
    "print('Classification accuracy KNORA-Eliminate: ', kne.score(X_test, y_test))\n",
    "print('Classification accuracy DESP: ', desp.score(X_test, y_test))\n",
    "print('Classification accuracy META-DES: ', apriori.score(X_test, y_test))"
   ]
  }
 ],
 "metadata": {
  "kernelspec": {
   "display_name": "Python 3",
   "language": "python",
   "name": "python3"
  },
  "language_info": {
   "codemirror_mode": {
    "name": "ipython",
    "version": 3
   },
   "file_extension": ".py",
   "mimetype": "text/x-python",
   "name": "python",
   "nbconvert_exporter": "python",
   "pygments_lexer": "ipython3",
   "version": "3.6.5"
  },
  "varInspector": {
   "cols": {
    "lenName": 16,
    "lenType": 16,
    "lenVar": 40
   },
   "kernels_config": {
    "python": {
     "delete_cmd_postfix": "",
     "delete_cmd_prefix": "del ",
     "library": "var_list.py",
     "varRefreshCmd": "print(var_dic_list())"
    },
    "r": {
     "delete_cmd_postfix": ") ",
     "delete_cmd_prefix": "rm(",
     "library": "var_list.r",
     "varRefreshCmd": "cat(var_dic_list()) "
    }
   },
   "types_to_exclude": [
    "module",
    "function",
    "builtin_function_or_method",
    "instance",
    "_Feature"
   ],
   "window_display": false
  }
 },
 "nbformat": 4,
 "nbformat_minor": 2
}
