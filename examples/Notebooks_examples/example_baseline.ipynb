{
 "cells": [
  {
   "cell_type": "markdown",
   "metadata": {},
   "source": [
    "# Comparison with baseline methods\n",
    "\n",
    "The library also contains the implementation of static ensemble selection techniques as well as baseline methods.\n",
    "\n",
    "In this version, we provide the main algorithms that are used as baseline to compare the performance of dynamic selection techniques:\n",
    "\n",
    "- Oracle: \n",
    "- Single best\n",
    "- Static selection\n",
    "\n",
    "In this example, we compare the performance of the baseline methods with a DS technique"
   ]
  },
  {
   "cell_type": "code",
   "execution_count": 1,
   "metadata": {},
   "outputs": [],
   "source": [
    "from sklearn.datasets import load_breast_cancer\n",
    "from sklearn.model_selection import train_test_split\n",
    "from sklearn.preprocessing import StandardScaler\n",
    "from sklearn.linear_model import Perceptron\n",
    "from sklearn.calibration import CalibratedClassifierCV\n",
    "from sklearn.ensemble import BaggingClassifier\n",
    "\n",
    "# Example of DES techniques\n",
    "from deslib.des.knora_e import KNORAE\n",
    "# Baseline methods:\n",
    "\n",
    "from deslib.static.oracle import Oracle\n",
    "from deslib.static.single_best import SingleBest\n",
    "from deslib.static.static_selection import StaticSelection"
   ]
  },
  {
   "cell_type": "markdown",
   "metadata": {
    "collapsed": true
   },
   "source": [
    "## Loading a classification dataset and preparing the data"
   ]
  },
  {
   "cell_type": "code",
   "execution_count": 2,
   "metadata": {},
   "outputs": [],
   "source": [
    "data = load_breast_cancer()\n",
    "X = data.data\n",
    "y = data.target\n",
    "# split the data into training and test data\n",
    "X_train, X_test, y_train, y_test = train_test_split(X, y, test_size=0.33)\n",
    "\n",
    "# Scale the variables to have 0 mean and unit variance\n",
    "scalar = StandardScaler()\n",
    "X_train = scalar.fit_transform(X_train)\n",
    "X_test = scalar.transform(X_test)\n",
    "\n",
    "# Split the data into training and DSEL for DS techniques\n",
    "X_train, X_dsel, y_train, y_dsel = train_test_split(X_train, y_train, test_size=0.5)"
   ]
  },
  {
   "cell_type": "markdown",
   "metadata": {},
   "source": [
    "## Training a pool of classifiers\n",
    "\n",
    "\n",
    "Here we train a pool containing 50 perceptron classifiers. The CalibratedClassifierCV class from scikit-learn is used in order to obtain probabilistic outputs."
   ]
  },
  {
   "cell_type": "code",
   "execution_count": 3,
   "metadata": {},
   "outputs": [
    {
     "data": {
      "text/plain": [
       "BaggingClassifier(base_estimator=CalibratedClassifierCV(base_estimator=Perceptron(alpha=0.0001, class_weight=None, eta0=1.0, fit_intercept=True,\n",
       "      max_iter=10, n_iter=None, n_jobs=1, penalty=None, random_state=0,\n",
       "      shuffle=True, tol=None, verbose=0, warm_start=False),\n",
       "            cv=3, method='sigmoid'),\n",
       "         bootstrap=True, bootstrap_features=False, max_features=1.0,\n",
       "         max_samples=1.0, n_estimators=50, n_jobs=1, oob_score=False,\n",
       "         random_state=None, verbose=0, warm_start=False)"
      ]
     },
     "execution_count": 3,
     "metadata": {},
     "output_type": "execute_result"
    }
   ],
   "source": [
    "# Calibrating Perceptrons to estimate probabilities\n",
    "model = CalibratedClassifierCV(Perceptron(max_iter=10))\n",
    "\n",
    "# Train a pool of 10 classifiers\n",
    "classifiers_pool = BaggingClassifier(model, n_estimators=50)\n",
    "classifiers_pool.fit(X_train, y_train)"
   ]
  },
  {
   "cell_type": "markdown",
   "metadata": {},
   "source": [
    "## Initializing methods\n",
    "\n",
    "The static methods are based on the same interface than the dynamic selection techniques: fit, predict, predict_proba and score. Making the comparisons between methods extremely easy!"
   ]
  },
  {
   "cell_type": "code",
   "execution_count": 4,
   "metadata": {},
   "outputs": [],
   "source": [
    "knorae = KNORAE(classifiers_pool)\n",
    "sb = SingleBest(classifiers_pool)\n",
    "ss = StaticSelection(classifiers_pool)\n",
    "oracle = Oracle(classifiers_pool)\n",
    "\n",
    "knorae.fit(X_dsel, y_dsel)\n",
    "sb.fit(X_dsel, y_dsel)\n",
    "ss.fit(X_dsel, y_dsel)"
   ]
  },
  {
   "cell_type": "markdown",
   "metadata": {},
   "source": [
    "## Getting the classificatiion performance of the techniques"
   ]
  },
  {
   "cell_type": "code",
   "execution_count": 5,
   "metadata": {},
   "outputs": [
    {
     "name": "stdout",
     "output_type": "stream",
     "text": [
      "Classification perforance KNORA-E:  0.9574468085106383\n",
      "Classification perforance Single Best:  0.9627659574468085\n",
      "Classification perforance Static Selection:  0.9680851063829787\n",
      "Classification perforance Oracle:  0.9893617021276596\n"
     ]
    }
   ],
   "source": [
    "print('Classification perforance KNORA-E: ', knorae.score(X_test, y_test))\n",
    "print('Classification perforance Single Best: ', sb.score(X_test, y_test))\n",
    "print('Classification perforance Static Selection: ', ss.score(X_test, y_test))\n",
    "print('Classification perforance Oracle: ', oracle.score(X_test, y_test))"
   ]
  },
  {
   "cell_type": "markdown",
   "metadata": {},
   "source": [
    "Based on the Oracle performance, we can see that there is a lot of room for improvements in DS techniques in order to achieve its upper limit performance. \n",
    "\n",
    "It is important to mention that the Oracle is an ideal model, which takes the information of the query labels in order to check whether there is a base classifier in the pool that predicts the correct label. This model is just used to know the upper limit performance we can achieve using a given pool of classifiers, cannot be used as a classification technique."
   ]
  },
  {
   "cell_type": "code",
   "execution_count": null,
   "metadata": {},
   "outputs": [],
   "source": []
  }
 ],
 "metadata": {
  "kernelspec": {
   "display_name": "Python 3",
   "language": "python",
   "name": "python3"
  },
  "language_info": {
   "codemirror_mode": {
    "name": "ipython",
    "version": 3
   },
   "file_extension": ".py",
   "mimetype": "text/x-python",
   "name": "python",
   "nbconvert_exporter": "python",
   "pygments_lexer": "ipython3",
   "version": "3.6.5"
  },
  "varInspector": {
   "cols": {
    "lenName": 16,
    "lenType": 16,
    "lenVar": 40
   },
   "kernels_config": {
    "python": {
     "delete_cmd_postfix": "",
     "delete_cmd_prefix": "del ",
     "library": "var_list.py",
     "varRefreshCmd": "print(var_dic_list())"
    },
    "r": {
     "delete_cmd_postfix": ") ",
     "delete_cmd_prefix": "rm(",
     "library": "var_list.r",
     "varRefreshCmd": "cat(var_dic_list()) "
    }
   },
   "types_to_exclude": [
    "module",
    "function",
    "builtin_function_or_method",
    "instance",
    "_Feature"
   ],
   "window_display": false
  }
 },
 "nbformat": 4,
 "nbformat_minor": 2
}
